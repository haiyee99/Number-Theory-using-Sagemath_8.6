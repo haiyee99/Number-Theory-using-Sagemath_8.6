{
 "cells": [
  {
   "cell_type": "markdown",
   "metadata": {},
   "source": [
    "# Sum of Two Squares\n",
    "\n",
    "### Introduction\n",
    "Sum of two squares is a studies focusing on finding whether an integer $n$ can be expressed as a sum of two squares, $x$ and $y$, where $x,y \\in Z$, i.e. \n",
    "\n",
    "\\begin{equation*}\n",
    "    n = x^2 + y^2\n",
    "\\end{equation*}\n",
    "\n",
    "### Fermat's Theorem on Sum of Two Squares\n",
    "Fermat wrote that every odd prime number $p$ can be written as a sum of two squares if and only if $p \\equiv 1 \\pmod{4}$. Formally,\n",
    "\n",
    "<div style=\"border: 1px solid black; padding: 1.25%; margin: 1.25% 0;\">\n",
    "    $p \\equiv 1 \\pmod{4} \\Leftrightarrow \\exists x,y \\in Z : p = x^2 + y^2$\n",
    "</div>\n",
    "\n",
    "The proof of this theorem can be found [here](https://en.wikipedia.org/wiki/Proofs_of_Fermat%27s_theorem_on_sums_of_two_squares)."
   ]
  },
  {
   "cell_type": "code",
   "execution_count": 1,
   "metadata": {},
   "outputs": [
    {
     "name": "stdout",
     "output_type": "stream",
     "text": [
      "(3, 6)\n"
     ]
    }
   ],
   "source": [
    "def findSquaresPrime(p):\n",
    "    for x in range(int(sqrt(p)) + 1):\n",
    "        sr = sqrt(p - x*x);\n",
    "        if(sr - floor(sr) == 0): return (x, int(sr));\n",
    "    return None;\n",
    "    \n",
    "sq = findSquaresPrime(45);\n",
    "print(sq);"
   ]
  },
  {
   "cell_type": "markdown",
   "metadata": {},
   "source": [
    "### Brahmagupta-Fibonacci Identity\n",
    "This identity states that the sum of two sums of two squares can be written as a sum of two squares. In other words, if $z = x^2 + y^2$ and $w = u^2 + v^2$, then there exists $a$, $b$ such that $zw = a^2 + b^2$.\n",
    "\n",
    "#### Proof\n",
    "Suppose $z = x^2 + y^2$ and $w = u^2 + v^2$, then\n",
    "\n",
    "\\begin{align}\n",
    "    zw &= (x^2 + y^2)(u^2 + v^2)\\\\\n",
    "    &= x^2u^2 + x^2v^2 + y^2u^2 + y^2v^2\\\\\n",
    "    &= (xu + yv)^2 + (xv - yu)^2\n",
    "\\end{align}\n",
    "\n",
    "#### Example 1\n",
    "Given that $13 = 2^2 + 3^2$ and $17 = 1^2 + 4^2$, express $13\\cdot17 = 221$ as a sum of two squares.\n",
    "\n",
    "Write $x = 2, y = 3, u = 1, v = 4$, so that\n",
    "\n",
    "\\begin{align}\n",
    "    221 &= (2\\cdot1 + 3\\cdot4)^2 + (2\\cdot4 - 3\\cdot1)^2\\\\\n",
    "    &= 14^2 + 5^2\n",
    "\\end{align}"
   ]
  },
  {
   "cell_type": "code",
   "execution_count": 2,
   "metadata": {},
   "outputs": [
    {
     "name": "stdout",
     "output_type": "stream",
     "text": [
      "(14, 5)\n"
     ]
    }
   ],
   "source": [
    "def bgfib(x, y):\n",
    "    x = findSquaresPrime(x);\n",
    "    y = findSquaresPrime(y);\n",
    "    return ((x[0]*y[0] + x[1]*y[1], x[0]*y[1] - x[1]*y[0]) if(x != None and y != None) else None);\n",
    "\n",
    "sq = bgfib(13, 17);\n",
    "print(sq);"
   ]
  },
  {
   "cell_type": "markdown",
   "metadata": {},
   "source": [
    "### Generalization\n",
    "\n",
    "Using the above theorem and identity, we can build a generalized form to determine whether an integer $n$ can be written as a sum of two squares.\n",
    "\n",
    "#### Using Fermat's Theorem\n",
    "Every prime number in the form of $p \\equiv 1 \\pmod{4}$ can be written as a sum of two squares.\n",
    "\n",
    "#### Adding Brahmagupta-Fibonacci Identity\n",
    "If $n$ is an integer, where its prime decomposition consists only prime numbers in the form of $p \\equiv 1 \\pmod{4}$, then $n$ can be written as a sum of two squares. This is because if $p_i$ and $p_j$ are two distinct factors of $n$ then we can write $p_i \\cdot p_j$ as a sum of two squares by the identity. This follows in the similar manner until the product forms $n$.\n",
    "\n",
    "#### Even Integers\n",
    "Since $2$ can be written as a sum of two squares, i.e. $2 = 1^2 + 1^2$, and any even integer can be written as $n = 2^km$, it follows that $n$ can be expressed as a sum of two squares if and only if $m$ is a sum of two squares.\n",
    "\n",
    "#### Even Powers of Integer\n",
    "If $n$ is can be expressed as an integer to the power of even integer, i.e. $n = m^{2k}$, then $n$ can be expressed as a sum of two squares. This is because we can write $n = 0^2 + (m^k)^2$. \n",
    "\n",
    "#### Generalized\n",
    "To wrap it all, if each term in the prime decomposition of $n$ can be written as a sum of two squares, that is when:\n",
    "<ul>\n",
    "    <li>$2$ can be written as a sum of two squares (true)</li>\n",
    "    <li>$p^k$, where $p \\equiv 1 \\pmod{4}$ is prime, can be written as sum of two squares (true)</li>\n",
    "    <li>$q^k$, where $q \\equiv 3 \\pmod{4}$ is prime, can be written as sum of two squares (only when k is even)</li>\n",
    "</ul>\n",
    "\n",
    "then, $n$ can be expressed as sum of two squares. In conclusion, if the powers of all the prime decomposition of $n$ in the form of $p \\equiv 3 \\pmod{4}$ is even, then $n$ can be expressed as sum of two squares."
   ]
  },
  {
   "cell_type": "code",
   "execution_count": 3,
   "metadata": {},
   "outputs": [
    {
     "name": "stdout",
     "output_type": "stream",
     "text": [
      "2^2 * 3 * 2729\n",
      "False\n"
     ]
    }
   ],
   "source": [
    "def hasSquares(n):\n",
    "    factor_n = factor(n); print(factor_n);\n",
    "    det = [(False if(x[0] % 4 == 3 and x[1] % 2 == 1) else True) for x in list(factor_n)];\n",
    "    return (False not in det);\n",
    "    \n",
    "hs = hasSquares(32748);\n",
    "print(hs);"
   ]
  }
 ],
 "metadata": {
  "kernelspec": {
   "display_name": "SageMath 8.6",
   "language": "",
   "name": "sagemath"
  },
  "language_info": {
   "codemirror_mode": {
    "name": "ipython",
    "version": 2
   },
   "file_extension": ".py",
   "mimetype": "text/x-python",
   "name": "python",
   "nbconvert_exporter": "python",
   "pygments_lexer": "ipython2",
   "version": "2.7.15"
  }
 },
 "nbformat": 4,
 "nbformat_minor": 2
}
