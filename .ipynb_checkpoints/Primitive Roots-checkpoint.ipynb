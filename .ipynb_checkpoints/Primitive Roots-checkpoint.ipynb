{
 "cells": [
  {
   "cell_type": "markdown",
   "metadata": {},
   "source": [
    "# Primitive Roots\n",
    "\n",
    "### Introduction\n",
    "Primitive roots of an integer $n$ is defined to be any positive integer, $a$, such that all integers coprime to $n$ is congruent to $a^k$ for some value $k$\n",
    "\n",
    "#### Example 1\n",
    "Determine if 2 is a primitive root of 5!\n",
    "\\begin{equation*}\n",
    "    \\phi(5) = 4 = \\{1, 2, 3, 4\\}\\\\\n",
    "    1 \\equiv 2^4 \\pmod 5\\\\\n",
    "    2 \\equiv 2^1 \\pmod 5\\\\\n",
    "    3 \\equiv 2^3 \\pmod 5\\\\\n",
    "    4 \\equiv 2^2 \\pmod 5\\\\\n",
    "\\end{equation*}\n",
    "Since all numbers coprime to 5 can be written as $2^k$, we say that 2 is a primitive root of 5.\n",
    "\n",
    "\n",
    "### Formal Definition\n",
    "Formally, let $Z_n^*$ be the set of all numbers less than and coprime to $n$:\n",
    "\n",
    "\\begin{equation*}\n",
    "    Z^*_n = \\{x \\in N : 1 \\leq x \\lt n, (x,n)=1\\}  \n",
    "\\end{equation*}\n",
    "\n",
    "Then, $a$ is a primitive root of $n$ if its power generate $Z^*_n$. That is, every element $x \\in Z^*_n$ is congruent to some value $a^k$.\n",
    "\n",
    "### Observations\n",
    "\n",
    "#### Part 1\n",
    "By [unique factorization](https://brilliant.org/wiki/fundamental-theorem-of-arithmetic/) theorem, we can see that $Z^*_n$ is closed under multiplication. That is, if $a, b \\in  Z^*_n$ and $ab \\equiv c \\pmod{n}$ then $c \\in Z^*_n$ must be true.\n",
    "\n",
    "For any element $x \\in Z^*_n$, consider the sequence of its power:\n",
    "\n",
    "\\begin{equation*}\n",
    "    \\{1, x, x^2, ...\\} \\pmod{n}\n",
    "\\end{equation*}\n",
    "\n",
    "Since all of the powers are in mod ${n}$, the sequence will repeat eventually. In fact, [Euler's Theorem](https://brilliant.org/wiki/eulers-theorem/) tells us that it repeats with a period of $\\phi(n)$.\n",
    "\n",
    "\\begin{equation*}\n",
    "    a^0 \\equiv a^{\\phi(n)} \\equiv 1\n",
    "\\end{equation*}\n",
    "\n",
    "However, not every element $a \\pmod{n}$ has a minimum period of $\\phi(n)$ (Refer *). These elements, by definition, are not primitive roots since $|Z^*_n| = \\phi(n)$. Thus, we can say that $a \\pmod{n}$ is a primitive root of $n$ if and only if its period is $\\phi(n)$.\n",
    "\n",
    "#### Part 2\n",
    "The primitive roots of $n$ must be coprime to $n$. This is because if the primitive root, $a$, is not coprime to $n$, i.e. $(a,n)\\neq1$, then by [Bezout's Identity](https://brilliant.org/wiki/bezouts-identity/), $a$ has no inverse mod $n$. Formally,\n",
    "\n",
    "\\begin{equation*}\n",
    "    a \\cdot a^{-1} \\equiv a \\cdot a^{n-1} \\not\\equiv 1 \n",
    "\\end{equation*}\n",
    "\n",
    "In other words, there exists no value $k$ such that $a^k \\equiv 1$ except for $k = 0$. Hence, $a$ cannot be a primitive roots of $n$ ($a^k$ is not cyclic)\n",
    "\n",
    "#### Part 3\n",
    "By [Euler's Theorem](https://brilliant.org/wiki/eulers-theorem/), we know that\n",
    "\n",
    "\\begin{equation*}\n",
    "    a^{\\phi(n)} \\equiv 1 \\pmod{n}\n",
    "\\end{equation*}\n",
    "\n",
    "and since the elements of $Z^*_n$ are unique, then by [Lagrange Theorem](https://brilliant.org/wiki/lagranges-theorem/), we can say that the valid value of $k$ such that $a^k \\equiv 1$ is when $k$ is in the form of $\\phi(n) / p_i$ where $p_i$ is the prime factor of $\\phi(n)$, and that $a$ has a period of $\\phi(n) / p_i$. (Refer **)\n",
    "\n",
    "Thus, we conclude that if there exists no prime divisors of $\\phi(n)$, i.e. $p_i$, such that  \n",
    "\n",
    "\\begin{equation*}\n",
    "    a^{\\phi(n) / p_i} \\equiv 1\n",
    "\\end{equation*}\n",
    "\n",
    "then $a$ is a primitive roots of $n$"
   ]
  },
  {
   "cell_type": "code",
   "execution_count": 1,
   "metadata": {},
   "outputs": [
    {
     "name": "stdout",
     "output_type": "stream",
     "text": [
      "True\n"
     ]
    }
   ],
   "source": [
    "# Sagemath 8.6\n",
    "def findPrimitiveRoot(n):\n",
    "    phi = euler_phi(n); # Find the totient of n\n",
    "    dphi = [x[0] for x in list(factor(phi))]; # Find the prime factors of phi\n",
    "    \n",
    "    for a in range(2, n):\n",
    "        if(gcd(a, n) == 1): # Part 2\n",
    "            flag = True;\n",
    "            for p in dphi: # Part 3\n",
    "                if(pow(a, phi//p, n) == 1): \n",
    "                    flag = False; \n",
    "                    break;\n",
    "            if(flag): return a; \n",
    "    return -1;\n",
    "    \n",
    "p = findPrimitiveRoot(2027);\n",
    "q = primitive_root(2027); # Sagemath's build-in function\n",
    "print(p == q);"
   ]
  },
  {
   "cell_type": "markdown",
   "metadata": {},
   "source": [
    "### Generating other primitive roots\n",
    "If $a$ is a primitive roots of $n$, then by definition, the following must be true\n",
    "\n",
    "\\begin{equation*}\n",
    "    Z^*_n = \\{a, a^2, ..., a^{\\phi(n)}\\}\n",
    "\\end{equation*}\n",
    "\n",
    "It turn's out that $b = a^k$ is also a primitive roots of $n$ given that $(k, \\phi(n)) = 1$. Intuitively, we want\n",
    "\n",
    "\\begin{equation*}\n",
    "    a^{\\phi(n)} \\equiv b^{\\phi(n)} \\equiv a^{k \\cdot \\phi(n)} \\equiv 1\n",
    "\\end{equation*}\n",
    "\n",
    "which is always true. However if $(k, \\phi(n)) \\neq 1$ then $a^{\\phi(n) / k} \\equiv 1$ thus making $a^k$ not a primitive root.\n",
    "\n",
    "Knowing this in mind, we can conclude that if $n$ has at least 1 primitive root, then $n$ has a total of $\\phi(\\phi(n))$ primitive roots.\n",
    "\n",
    "#### Example 2\n",
    "How many primitive roots does 83 have?\n",
    "\n",
    "Since 2 is a primitive root of 83 ([Sophie Germain Primes](https://brilliant.org/wiki/primitive-roots/#finding-primitive-roots)), then 83 have exactly $\\phi(\\phi(83)) = \\phi(82) = 40$ primitive roots."
   ]
  },
  {
   "cell_type": "code",
   "execution_count": 2,
   "metadata": {},
   "outputs": [
    {
     "name": "stdout",
     "output_type": "stream",
     "text": [
      "40 primitive roots\n",
      "[2, 5, 6, 8, 13, 14, 15, 18, 19, 20, 22, 24, 32, 34, 35, 39, 42, 43, 45, 46, 47, 50, 52, 53, 54, 55, 56, 57, 58, 60, 62, 66, 67, 71, 72, 73, 74, 76, 79, 80]\n"
     ]
    }
   ],
   "source": [
    "def findAllPrimitiveRoot(n):\n",
    "    try:\n",
    "        # If n has at least 1 primitive root\n",
    "        phi = euler_phi(n);\n",
    "        a = primitive_root(n); # Find one primitive root of n\n",
    "        roots = [a];\n",
    "        \n",
    "        for k in range(2, n):\n",
    "            if(gcd(k,phi) == 1): # If k is coprime to phi\n",
    "                roots.append(pow(a, k, n)); # a^k must be a generator\n",
    "        roots.sort(); # Optional\n",
    "        return roots;\n",
    "    except:\n",
    "        # If n has no primitive root\n",
    "        return [];\n",
    "    \n",
    "p = findAllPrimitiveRoot(83);\n",
    "print(str(len(p)) + \" primitive roots\");\n",
    "print(p);"
   ]
  }
 ],
 "metadata": {
  "kernelspec": {
   "display_name": "SageMath 8.6",
   "language": "",
   "name": "sagemath"
  },
  "language_info": {
   "codemirror_mode": {
    "name": "ipython",
    "version": 2
   },
   "file_extension": ".py",
   "mimetype": "text/x-python",
   "name": "python",
   "nbconvert_exporter": "python",
   "pygments_lexer": "ipython2",
   "version": "2.7.15"
  }
 },
 "nbformat": 4,
 "nbformat_minor": 2
}
