{
 "cells": [
  {
   "cell_type": "markdown",
   "metadata": {},
   "source": [
    "# Continued Fractions\n",
    "\n",
    "### Introduction\n",
    "\n",
    "The are two types of continued fractions:\n",
    "\n",
    "<ul>\n",
    "    <li>Finite Continued Fractions</li>\n",
    "    <div>\n",
    "        \\begin{equation*}\n",
    "            a_0 + {\\frac{b_1}{a_1 + \\frac{b_2}{a_2 + \\frac{b_3}{\\ddots + \\frac{b_n}{a_n}}}}}\n",
    "        \\end{equation*}\n",
    "    </div>\n",
    "    <li>Infinite Continue Fractions</li>\n",
    "    <div>\n",
    "        \\begin{equation*}\n",
    "            a_0 + {\\frac{b_1}{a_1 + \\frac{b_2}{a_2 + \\frac{b_3}{a_3 + \\ddots}}}}\n",
    "        \\end{equation*}\n",
    "    </div>\n",
    "    <span>Where $a_i$, $b_i$ are integers $\\forall i$ and $n \\geq 1$</span>\n",
    "</ul>\n",
    "\n",
    "### Simple Continued Fractions\n",
    "\n",
    "A continued fraction is called <b>simple</b> if it satisfy these conditions:\n",
    "<ul>\n",
    "    <li>It is finite or infinite</li>\n",
    "    <li>$a_0$ is an integer</li>\n",
    "    <li>$a_i$ is a positive integer $\\forall i > 0$</li>\n",
    "    <li>$b_i$ is 1</li>\n",
    "</ul>\n",
    "\n",
    "Simple continued fractions are usually denoted as\n",
    "\n",
    "\\begin{equation*}\n",
    "    \\big[a_0; a_1, a_2, ... \\big]\n",
    "\\end{equation*}\n",
    "\n",
    "#### Example 1\n",
    "\n",
    "This is the simple continued fraction form of $\\frac{11}{4}$\n",
    "\n",
    "\\begin{equation*}\n",
    "    2 + \\frac{1}{1 + \\frac{1}{3}}\n",
    "\\end{equation*}\n",
    "\n",
    "or $\\big[2; 1, 3\\big]$\n",
    "\n",
    "This is the simple continued fraction form of $\\pi$\n",
    "\n",
    "\\begin{equation*}\n",
    "    3 + \\frac{1}{7 + \\frac{1}{15 + \\frac{1}{1 + \\ddots}}}\n",
    "\\end{equation*}\n",
    "\n",
    "or $\\big[3; 7, 15, 1, ... \\big]$\n",
    "\n",
    "### Periodic Continued Fractions\n",
    "\n",
    "A continued fraction is <b>periodic</b> if it repeats the pattern every $h$ length. Formally,\n",
    "\n",
    "\\begin{equation*}\n",
    "    a_n = a_{n+h}\n",
    "\\end{equation*}\n",
    "\n",
    "for some fixed positive integer $h$.\n",
    "\n",
    "#### Example 2\n",
    "\n",
    "This is a periodic continued fraction with length of 2 in the form $\\big[2; 5, 3, 5, 3, ...\\big]$\n",
    "\n",
    "\\begin{equation*}\n",
    "    2 + \\frac{1}{5 + \\frac{1}{3 + \\frac{1}{5 + \\frac{1}{3 + \\ddots}}}}\n",
    "\\end{equation*}\n",
    "\n",
    "Alternatively, we could write this fraction as $\\big[2; \\overline{5, 3}\\big]$\n",
    "\n",
    "### Properties\n",
    "\n",
    "These are some useful properties of continued fraction:\n",
    "<ul>\n",
    "    <li>Rational numbers, i.e. $x \\in Q$, can always be written as finite continued fractions (but not infinite). The converse is also true.</li>\n",
    "    <li>If $r$ is a solution to quadratic polynomial with integer coefficients, then the expansion of $r$ can be written as a periodic continued fractions. The converse is also true.</li>\n",
    "    <li>$\\left[a_0, a_1, a_2, ..., a_n\\right] = \\left[a_0, [a_1, a_2, ..., a_n]\\right]$</li>\n",
    "    <li>$\\left[a_0, a_1, a_2, ..., a_n\\right] = \\left[a_0, a_1, a_2, ..., a_{n-1} + \\frac{1}{a_n}\\right]$</li>\n",
    "</ul>"
   ]
  },
  {
   "cell_type": "markdown",
   "metadata": {},
   "source": [
    "### Rational Number to Simple Continued Fraction\n",
    "\n",
    "We can use [Euclidean Algorithm](https://brilliant.org/wiki/euclidean-algorithm/) to convert any rational numbers, $\\frac{p}{q}$, to a simple continued fractions. These steps will help summarize the algorithm:\n",
    "\n",
    "<ul>\n",
    "    <li>If $p \\geq q$, then $a_i = \\left\\lfloor\\frac{p}{q}\\right\\rfloor$</li>\n",
    "    <li>If $p < q$, then write $\\frac{p}{q}$ as $\\frac{1}{\\left(\\frac{q}{p}\\right)}$</li>\n",
    "    <li>If $p = 1$, terminate algorithm</li>\n",
    "</ul>\n",
    "\n",
    "#### Example 3\n",
    "\n",
    "Write $\\frac{48}{7}$ as simple continued fraction\n",
    "\n",
    "\\begin{align}\n",
    "    \\frac{48}{7} &= 6 + \\frac{6}{7}\\\\\n",
    "    &= 6 + \\frac{1}{\\frac{7}{6}}\\\\\n",
    "    &= 6 + \\frac{1}{1 + \\frac{1}{6}}\n",
    "\\end{align}\n",
    "\n",
    "or $\\left[6; 1, 6\\right]$"
   ]
  },
  {
   "cell_type": "code",
   "execution_count": 2,
   "metadata": {},
   "outputs": [
    {
     "name": "stdout",
     "output_type": "stream",
     "text": [
      "[6, 1, 6]\n",
      "[6; 1, 6]\n"
     ]
    }
   ],
   "source": [
    "# Complexity: O(log(p + q)) by euclidean algorithm\n",
    "def fromQ(p, q):\n",
    "    res = [p // q] + iterate_fromQ(p % q, q);\n",
    "    return res;\n",
    "\n",
    "def iterate_fromQ(p, q):\n",
    "    res = [];\n",
    "    if(p == 1): return [q];\n",
    "    \n",
    "    if(p >= q): res += [p // q] + fromQ(p%q, q);\n",
    "    else: res += fromQ(q, p);\n",
    "    \n",
    "    return res;\n",
    "\n",
    "cf1 = fromQ(48, 7);\n",
    "cf2 = continued_fraction(48 / 7); # Sagemath's build-in function\n",
    "print(cf1);\n",
    "print(cf2);"
   ]
  },
  {
   "cell_type": "code",
   "execution_count": 2,
   "metadata": {},
   "outputs": [
    {
     "name": "stdout",
     "output_type": "stream",
     "text": [
      "(48, 7)\n",
      "48/7\n"
     ]
    }
   ],
   "source": [
    "# Complexity: O(|a|)\n",
    "def toQ(a):\n",
    "    a = [(x, 1) for x in a];\n",
    "    return iterate_toQ(a);\n",
    "\n",
    "def iterate_toQ(a):\n",
    "    if(len(a) == 1): return a[0];\n",
    "    a[-2] = (a[-2][0] * a[-1][0] + a[-1][1], a[-1][0]);\n",
    "    return iterate_toQ(a[:-1]);\n",
    "    \n",
    "f1 = toQ([6, 1, 6]);\n",
    "f2 = continued_fraction([6, 1, 6]).convergents()[-1];\n",
    "print(f1);\n",
    "print(f2);"
   ]
  },
  {
   "cell_type": "markdown",
   "metadata": {},
   "source": [
    "### Irrational Number to Simple Continued Fraction\n",
    "\n",
    "The algorithm used to convert irrational numbers to simple continued fraction is different by a little. The idea is to truncate the decimal representation of the number to a certain length, then do the same algorithm as before.\n",
    "\n",
    "#### Example 4\n",
    "\n",
    "Express $\\pi$ as a simple continued fraction!\n",
    "\n",
    "We know that $\\pi \\approx 3.1415926535$\n",
    "\n",
    "\\begin{align}\n",
    "    \\pi &= 3 + 0.1415926535\\\\\n",
    "    &= 3 + \\frac{1}{\\frac{1}{0.1415926535}}\\\\\n",
    "    &= 3 + \\frac{1}{7 + 0.0625133104}\\\\\n",
    "    &= 3 + \\frac{1}{7 + \\frac{1}{\\frac{1}{0.0625133104}}}\\\\\n",
    "    &= 3 + \\frac{1}{7 + \\frac{1}{15 + 0.9965932631}}\\\\\n",
    "\\end{align}\n",
    "\n",
    "This process continues for a long time and will stop after certain iterations. Note that the result we get matches with the one on example 1."
   ]
  },
  {
   "cell_type": "code",
   "execution_count": 3,
   "metadata": {},
   "outputs": [
    {
     "name": "stdout",
     "output_type": "stream",
     "text": [
      "[3, 7, 15, 1, 292, 1, 1, 1, 2, 1]\n",
      "[3; 7, 15, 1, 292, 1, 1, 1, 2, 1, 3, 1, 14, 2, 1, 1, 2, 2, 2, 2, ...]\n"
     ]
    }
   ],
   "source": [
    "# Complexity: O(depth)\n",
    "def fromR(q, depth = 10):\n",
    "    res = [floor(q)] + iterate_fromR(q - floor(q), depth, 1);\n",
    "    return res;\n",
    "\n",
    "def iterate_fromR(q, max_depth, curr_depth):\n",
    "    if(curr_depth == max_depth): return [];\n",
    "    if(q == 1): return [1];\n",
    "    \n",
    "    if(q > 1): return [floor(q)] + iterate_fromR(q - floor(q), max_depth, curr_depth + 1);\n",
    "    else: return iterate_fromR(1 / q, max_depth, curr_depth);\n",
    "    \n",
    "cf1 = fromR(pi, 10);\n",
    "cf2 = continued_fraction(pi);\n",
    "print(cf1);\n",
    "print(cf2);"
   ]
  },
  {
   "cell_type": "markdown",
   "metadata": {},
   "source": [
    "### Irrational Numbers can be Periodic Continued Fraction\n",
    "\n",
    "Write $\\sqrt{5}$ as continued fraction!\n",
    "\n",
    "\\begin{align}\n",
    "    \\sqrt{5} &= 2 + (\\sqrt{5} - 2)\\\\\n",
    "    &= 2 + \\frac{1}{\\frac{1}{\\sqrt{5}-2}}\\\\\n",
    "    &= 2 + \\frac{1}{2 + \\sqrt{5}}\n",
    "\\end{align}\n",
    "\n",
    "Substitute the expansion of $\\sqrt{5}$ to itself:\n",
    "\n",
    "\\begin{align}\n",
    "    \\sqrt{5} &= 2 + \\frac{1}{2 + 2 + \\frac{1}{2 + \\sqrt{5}}}\\\\\n",
    "    &= 2 + \\frac{1}{4 + \\frac{1}{2 + 2 + \\frac{1}{2 + \\sqrt{5}}}}\\\\\n",
    "    &= 2 + \\frac{1}{4 + \\frac{1}{4 + \\ddots}}\n",
    "\\end{align}\n",
    "\n",
    "The expansion of $\\sqrt{5}$ can be written as $\\left[2; 4, 4, 4, 4, ...\\right]$. Since $5$ is a root of the quadratic polynomial $x^2 - 5 = 0$, we can be sure that the expansion will be periodic."
   ]
  },
  {
   "cell_type": "markdown",
   "metadata": {},
   "source": [
    "### Solving Periodic Continued Fraction\n",
    "\n",
    "Suppose we have a periodic fraction defined as:\n",
    "\n",
    "\\begin{equation*}\n",
    "    \\left[a_0, a_1, ..., a_k, \\overline{R}\\right]\n",
    "\\end{equation*}\n",
    "\n",
    "Where $R$ is the reccuring part of the continued fraction.\n",
    "\n",
    "Let:\n",
    "\n",
    "\\begin{equation*}\n",
    "    \\overline{R} = \\left[b_0, b_1, ..., b_h, b_0, b_1, ..., b_h, ...\\right]\n",
    "\\end{equation*}\n",
    "\n",
    "By property 3, we can write this as:\n",
    "\n",
    "\\begin{align}\n",
    "    \\overline{R} &= [b_0, [b_1, [..., [b_h, [b_0, b_1, ..., b_h, ...]]]]]\\\\\n",
    "    &= [b_0, [b_1, [..., [b_h, \\overline{R}]]]]\n",
    "\\end{align}\n",
    "\n",
    "Solve RHS in terms of $\\overline{R}$, then solve for the value of $\\overline{R}$. Then, substitue the value of $\\overline{R}$ to the original problem.\n",
    "\n",
    "#### Example 5\n",
    "\n",
    "Find the value of the continued fraction defined as $\\left[4; \\overline{2, 1, 3, 1, 2, 8}\\right]$\n",
    "\n",
    "Let:\n",
    "\n",
    "\\begin{equation*}\n",
    "    \\overline{R} = \\left[\\overline{2, 1, 3, 1, 2, 8}\\right]\n",
    "\\end{equation*}\n",
    "\n",
    "so that,\n",
    "\n",
    "\\begin{align}\n",
    "    \\overline{R} &= [2, [1, [3, [1, [2, [8, \\overline{R}]]]]]]\\\\\n",
    "    &= [2, 1, 3, 1, 2, 8, \\overline{R}]\\\\\n",
    "    &= 2 + \\frac{1}{1 + \\frac{1}{3 + \\frac{1}{1 + \\frac{1}{2 + \\frac{1}{8 + \\frac{1}{R}}}}}}\\\\\n",
    "    &= \\frac{326\\overline{R} + 39}{117\\overline{R} + 14}\\\\\n",
    "\\end{align}\n",
    "\n",
    "Solving for $\\overline{R}$:\n",
    "\n",
    "\\begin{align}\n",
    "    0 &= 117\\overline{R}^2 - 312\\overline{R} - 39\\\\\n",
    "    \\overline{R} &= \\frac{4 \\pm \\sqrt{19}}{3}\n",
    "\\end{align}\n",
    "\n",
    "Substitute the value of $\\overline{R}$ to the original problem:\n",
    "\n",
    "\\begin{align}\n",
    "    [4; \\overline{2, 1, 3, 1, 2, 8}] &= [4; \\overline{R}]\\\\\n",
    "    &= 4 + \\frac{1}{\\frac{4 \\pm \\sqrt{19}}{3}}\\\\\n",
    "\\end{align}\n",
    "\n",
    "Solving the equation will give us the answers $\\sqrt{19}$ or $-\\sqrt{19}$. However we know that the sum must be positive, so we reject $-\\sqrt{19}$."
   ]
  },
  {
   "cell_type": "markdown",
   "metadata": {},
   "source": [
    "### Convergence\n",
    "\n",
    "Suppose the expansion of a number $r$ is \n",
    "\n",
    "\\begin{equation*}\n",
    "    r = [a_0, a_1, a_2, ...]\n",
    "\\end{equation*}\n",
    "\n",
    "We can approximate $r$ by 'cutting' the expansion at the k<sup>th</sup> index so that:\n",
    "\n",
    "\\begin{equation*}\n",
    "    r = [a_0, a_1, ..., a_k]\n",
    "\\end{equation*}\n",
    "\n",
    "We call this approximation as the <i>kth-convergence</i> of $r$. This convergence will always be a rational number since the continued fraction is finite, i.e. we can always write the kth-convergence as $\\frac{p_k}{q_k}$.\n",
    "\n",
    "#### Example 6\n",
    "\n",
    "Given that the expansion of the Golden Ratio, $\\Phi = [1; 1, 1, 1, 1, ...]$. Find the 4th-convergence of $\\Phi$!\n",
    "\n",
    "\\begin{align}\n",
    "    \\Phi &\\approx 1 + \\frac{1}{1 + \\frac{1}{1 + \\frac{1}{1 + \\frac{1}{1}}}}\\\\\n",
    "    &= \\frac{8}{5}\n",
    "\\end{align}"
   ]
  },
  {
   "cell_type": "code",
   "execution_count": 4,
   "metadata": {},
   "outputs": [
    {
     "name": "stdout",
     "output_type": "stream",
     "text": [
      "(8, 5)\n"
     ]
    }
   ],
   "source": [
    "ans_6 = toQ([1, 1, 1, 1, 1]);\n",
    "print(ans_6);"
   ]
  },
  {
   "attachments": {
    "image.png": {
     "image/png": "[encoded data removed]"
    }
   },
   "cell_type": "markdown",
   "metadata": {},
   "source": [
    "The error of the kth-convergence decreases as the value of $k$ increases, in other words:\n",
    "\n",
    "\\begin{equation*}\n",
    "    lim_{k \\to \\infty} \\left|r - \\frac{p_k}{q_k}\\right| = 0\n",
    "\\end{equation*}\n",
    "\n",
    "Eventually, the value of $\\frac{p_k}{q_k}$ will converge to $r$. In fact, the graph of the convergence will always look like this:\n",
    "![image.png](attachment:image.png)\n",
    "\n",
    "Notice how $\\frac{p_k}{q_k}$ and $\\frac{p_{k+1}}{q_{k+1}}$ are on the opposite sides of $r$."
   ]
  },
  {
   "cell_type": "markdown",
   "metadata": {},
   "source": [
    "### Finding the Kth-Convergence Programmatically\n",
    "\n",
    "The kth-convergence can be computed by using the following reccursive relation:\n",
    "\n",
    "\\begin{align}\n",
    "    p_{-1} = 1, p_0 = a_0, p_k = a_k p_{k-1} + p_{k-2}\\\\\n",
    "    q_{-1} = 0, q_0 = 1, q_k = a_k q_{k-1} + q_{k-2}\\\\\n",
    "\\end{align}\n",
    "\n",
    "This formula has a nice property, which always gives $\\frac{p_k}{q_k}$ in the lowest term."
   ]
  },
  {
   "cell_type": "code",
   "execution_count": 5,
   "metadata": {},
   "outputs": [
    {
     "name": "stdout",
     "output_type": "stream",
     "text": [
      "(8, 5)\n",
      "8/5\n"
     ]
    }
   ],
   "source": [
    "# Complexity: O(k)\n",
    "def kthConvergence(k, a):\n",
    "    # Using bottom-up approach\n",
    "    if(k > len(a) + 1): return None;\n",
    "    if(k == 0): return (a[0], 1);\n",
    "    \n",
    "    p_2 = 1; p_1 = a[0];\n",
    "    q_2 = 0; q_1 = 1;\n",
    "    \n",
    "    for i in range(k):\n",
    "        p = a[i] * p_1 + p_2;\n",
    "        q = a[i] * q_1 + q_2;\n",
    "        \n",
    "        p_2 = p_1; p_1 = p;\n",
    "        q_2 = q_1; q_1 = q;\n",
    "    \n",
    "    return (p, q);\n",
    "\n",
    "print(kthConvergence(4, [1, 1, 1, 1, 1]));\n",
    "print(continued_fraction([1, 1, 1, 1, 1, 1, 1]).convergents()[4]); # Note: This may miscalculate the kth-convergence"
   ]
  }
 ],
 "metadata": {
  "kernelspec": {
   "display_name": "SageMath 8.6",
   "language": "",
   "name": "sagemath"
  },
  "language_info": {
   "codemirror_mode": {
    "name": "ipython",
    "version": 2
   },
   "file_extension": ".py",
   "mimetype": "text/x-python",
   "name": "python",
   "nbconvert_exporter": "python",
   "pygments_lexer": "ipython2",
   "version": "2.7.15"
  }
 },
 "nbformat": 4,
 "nbformat_minor": 2
}
